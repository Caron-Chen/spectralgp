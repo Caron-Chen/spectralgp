{
 "cells": [
  {
   "cell_type": "code",
   "execution_count": null,
   "metadata": {},
   "outputs": [],
   "source": [
    "import math\n",
    "import torch\n",
    "import gpytorch\n",
    "import spectralgp\n",
    "import matplotlib.pyplot as plt\n",
    "import matplotlib.cm as cm\n",
    "%matplotlib inline"
   ]
  },
  {
   "cell_type": "code",
   "execution_count": null,
   "metadata": {},
   "outputs": [],
   "source": [
    "class SpectralModel(gpytorch.models.ExactGP):\n",
    "    def __init__(self, train_x, train_y, likelihood, **kwargs):\n",
    "        super(SpectralModel, self).__init__(train_x, train_y, likelihood)\n",
    "\n",
    "        self.mean_module = gpytorch.means.ConstantMean()\n",
    "        self.covar_module = spectralgp.kernels.SpectralGPKernel(**kwargs)\n",
    "        self.covar_module.initialize_from_data(train_x, train_y, **kwargs)\n",
    "\n",
    "    def forward(self, x):\n",
    "        mean_x = self.mean_module(x)\n",
    "        covar_x = self.covar_module(x)\n",
    "        return gpytorch.distributions.MultivariateNormal(mean_x, covar_x)\n"
   ]
  },
  {
   "cell_type": "code",
   "execution_count": null,
   "metadata": {},
   "outputs": [],
   "source": [
    "likelihood = gpytorch.likelihoods.GaussianLikelihood(noise_prior=gpytorch.priors.SmoothedBoxPrior(1e-8, 1e-4))\n",
    "model = SpectralModel(train_x, train_y, likelihood, nomg=100)"
   ]
  },
  {
   "cell_type": "code",
   "execution_count": null,
   "metadata": {},
   "outputs": [],
   "source": [
    "n_iters = 10\n",
    "ess_iters = 5\n",
    "optim_iters = 5"
   ]
  },
  {
   "cell_type": "code",
   "execution_count": null,
   "metadata": {},
   "outputs": [],
   "source": [
    "# Trials(T)\n",
    "T = 20\n",
    "for t in range(T):\n",
    "    Ft = model.sample(sample_shape=torch.Size(1,)).detach().numpy()\n",
    "    At = np.argmax(Ft)\n",
    "    \n",
    "    '''\n",
    "        OBSERVE Yt, Yt = Ft + Et\n",
    "        \n",
    "    '''\n",
    "    \n",
    "    train_y[AT] = Yt\n",
    "    model.set_train_data(train_x, train_y, strict=False)\n",
    "    alt_sampler = spectralgp.samplers.AlternatingSampler(\n",
    "        [model], [likelihood], \n",
    "        spectralgp.sampling_factories.ss_factory, [spectralgp.sampling_factories.ess_factory],\n",
    "        totalSamples=n_iters, numInnerSamples=ess_iters, numOuterSamples=optim_iters\n",
    "        )\n",
    "    alt_sampler.run()"
   ]
  },
  {
   "cell_type": "code",
   "execution_count": null,
   "metadata": {},
   "outputs": [],
   "source": [
    "model.eval()\n",
    "n_samples = 10\n",
    "spectrum_samples = alt_sampler.gsampled[0][0,:, -10:].detach()\n",
    "\n",
    "predictions = torch.zeros(len(full_x), 10) # predictions for each sample\n",
    "upper_bds = torch.zeros(len(full_x), 10) # upper conf. bd for each sample\n",
    "lower_bds = torch.zeros(len(full_x), 10) # lower conf. bd for each sample\n",
    "\n",
    "with torch.no_grad():\n",
    "    for ii in range(n_samples):\n",
    "        model.covar_module.set_latent_params(spectrum_samples[:, ii])\n",
    "        model.set_train_data(train_x, train_y) # to clear out the cache\n",
    "        pred_dist = model(full_x) \n",
    "        lower_bds[:, ii], upper_bds[:, ii] = pred_dist.confidence_region()\n",
    "        predictions[:, ii] = pred_dist.mean"
   ]
  },
  {
   "cell_type": "code",
   "execution_count": null,
   "metadata": {},
   "outputs": [],
   "source": [
    "colors = cm.get_cmap(\"tab10\")\n",
    "## plot the predictions ##\n",
    "plt.plot(full_x.numpy(), predictions[:, 0].detach().numpy(), label=\"Predictions\",\n",
    "         color=colors(0), linewidth=2)\n",
    "plt.plot(full_x.numpy(), predictions.detach().numpy(), linewidth=2, \n",
    "         color=colors(0))\n",
    "\n",
    "## Shade region +/- 2 SD around the mean ##\n",
    "plt.fill_between(full_x.numpy(), lower_bds[:, 0].detach().numpy(), \n",
    "                 upper_bds[:, 0].detach().numpy(),\n",
    "                 color=colors(0), alpha=0.03, label = r\"$\\pm 2$ SD\")\n",
    "for ii in range(n_samples):\n",
    "    plt.fill_between(full_x.numpy(), lower_bds[:, ii].detach().numpy(), \n",
    "                     upper_bds[:, ii].detach().numpy(), \n",
    "                     color=colors(0), alpha=0.03)\n",
    "    \n",
    "## plot data ##\n",
    "plt.plot(train_x.numpy(), train_y.numpy(), color=colors(1),\n",
    "        linewidth=2, label=\"Train Data\")\n",
    "plt.plot(test_x.numpy(), test_y.numpy(), color=colors(1),\n",
    "        linestyle=\"None\", marker=\".\", markersize=12,\n",
    "        label=\"Test Data\")\n",
    "plt.xlabel(\"X\")\n",
    "plt.ylabel(\"Y\")\n",
    "plt.title(\"Predictions and Data\")\n",
    "plt.legend()\n",
    "plt.show()"
   ]
  },
  {
   "cell_type": "code",
   "execution_count": null,
   "metadata": {},
   "outputs": [],
   "source": [
    "plt.plot(model.covar_module.omega.numpy(), spectrum_samples.exp().numpy(), label = 'Posterior Samples')\n",
    "plt.xlabel('Omega')\n",
    "plt.ylabel('Density')\n",
    "plt.xlim((0, 7))\n",
    "plt.ylim((0,1))\n",
    "plt.vlines(2/(2*3.14159),ymin=0, ymax=10, label = 'True Period')\n",
    "plt.legend()"
   ]
  }
 ],
 "metadata": {
  "kernelspec": {
   "display_name": "Python [conda env:spectralgp] *",
   "language": "python",
   "name": "conda-env-spectralgp-py"
  },
  "language_info": {
   "codemirror_mode": {
    "name": "ipython",
    "version": 3
   },
   "file_extension": ".py",
   "mimetype": "text/x-python",
   "name": "python",
   "nbconvert_exporter": "python",
   "pygments_lexer": "ipython3",
   "version": "3.7.3"
  }
 },
 "nbformat": 4,
 "nbformat_minor": 2
}
