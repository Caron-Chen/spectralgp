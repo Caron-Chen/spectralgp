{
 "cells": [
  {
   "cell_type": "code",
   "execution_count": 1,
   "metadata": {},
   "outputs": [],
   "source": [
    "import math\n",
    "import torch\n",
    "import gpytorch\n",
    "import numpy as np\n",
    "import numpy.linalg as linalg\n",
    "\n",
    "import spectralgp\n",
    "from spectralgp.samplers import AlternatingSampler\n",
    "from spectralgp.models import ExactGPModel, SpectralModel, ProductKernelSpectralModel\n",
    "from spectralgp.sampling_factories import ss_factory, ess_factory\n",
    "\n",
    "import data\n",
    "import utils\n",
    "import argparse\n",
    "\n",
    "import sys\n",
    "import matplotlib.pyplot as plt\n",
    "\n",
    "import traceback\n",
    "\n",
    "torch.set_default_dtype(torch.float64)"
   ]
  },
  {
   "cell_type": "code",
   "execution_count": 2,
   "metadata": {},
   "outputs": [],
   "source": [
    "mlatent = 'shared'\n",
    "model_avg = 'full'\n",
    "nomg = 100\n",
    "ess_iters = 10\n",
    "optim_iters = 5 \n",
    "iters = 20\n",
    "torch.random.manual_seed(42)\n",
    "shared = True if mlatent == 'shared' else False"
   ]
  },
  {
   "cell_type": "code",
   "execution_count": 3,
   "metadata": {},
   "outputs": [],
   "source": [
    "data_x = torch.linspace(0, 5, 500)\n",
    "# True function is sin(2*pi*x) with Gaussian noise\n",
    "data_y = (0. + torch.sin(data_x * (2 * math.pi))) + torch.randn(data_x.size()) * 0.2\n",
    "in_dims = 1"
   ]
  },
  {
   "cell_type": "code",
   "execution_count": 4,
   "metadata": {},
   "outputs": [],
   "source": [
    "omega_0 = 1.e-10\n",
    "omega_max = 8.\n",
    "omega_data = torch.linspace(omega_0, omega_max, nomg)\n",
    "omega_delta = omega_data[1] - omega_data[0]\n",
    "phi_const = torch.sqrt(omega_delta/2.)"
   ]
  },
  {
   "cell_type": "code",
   "execution_count": 5,
   "metadata": {},
   "outputs": [],
   "source": [
    "mapped_data_x = []\n",
    "for obs_id in range(data_x.size(0)):\n",
    "    mapped_data_x.append([])\n",
    "    for omg_id in range(0, nomg):\n",
    "        if omg_id == 0 or omg_id == nomg-1:\n",
    "            mapped_data_x[obs_id].append(torch.cos(2.0*math.pi*omega_data[omg_id]*data_x[obs_id]))\n",
    "            mapped_data_x[obs_id].append(torch.sin(2.0*math.pi*omega_data[omg_id]*data_x[obs_id]))\n",
    "        else:\n",
    "            mapped_data_x[obs_id].append(math.sqrt(2.0)*torch.cos(2.0*math.pi*omega_data[omg_id]*data_x[obs_id]))\n",
    "            mapped_data_x[obs_id].append(math.sqrt(2.0)*torch.sin(2.0*math.pi*omega_data[omg_id]*data_x[obs_id]))\n",
    "\n",
    "data_x = torch.DoubleTensor(mapped_data_x) * phi_const"
   ]
  },
  {
   "cell_type": "code",
   "execution_count": 6,
   "metadata": {},
   "outputs": [
    {
     "name": "stdout",
     "output_type": "stream",
     "text": [
      "torch.Size([250, 200]) torch.Size([250])\n",
      "torch.Size([250, 200]) torch.Size([250])\n"
     ]
    }
   ],
   "source": [
    "train_x = data_x[0:250,:]\n",
    "train_y = data_y[0:250]\n",
    "\n",
    "test_x = data_x[250:,:]\n",
    "test_y = data_y[250:]\n",
    "\n",
    "print(train_x.size(), train_y.size())\n",
    "print(test_x.size(), test_y.size())"
   ]
  },
  {
   "cell_type": "code",
   "execution_count": 7,
   "metadata": {},
   "outputs": [
    {
     "name": "stdout",
     "output_type": "stream",
     "text": [
      "Loss is:  tensor(-5.4025, grad_fn=<AddBackward0>)\n",
      "Loss is:  tensor(-5.3781, grad_fn=<AddBackward0>)\n",
      "Loss is:  tensor(-5.3544, grad_fn=<AddBackward0>)\n",
      "Loss is:  tensor(-5.3307, grad_fn=<AddBackward0>)\n",
      "Loss is:  tensor(-5.3075, grad_fn=<AddBackward0>)\n",
      "Task: 0 ; Iteration 0\n",
      "Seconds for Iteration 0 : 0.6471295356750488\n",
      "Loss is:  tensor(-2.1012, grad_fn=<AddBackward0>)\n",
      "Loss is:  tensor(-2.0993, grad_fn=<AddBackward0>)\n",
      "Loss is:  tensor(-2.0987, grad_fn=<AddBackward0>)\n",
      "Loss is:  tensor(-2.0983, grad_fn=<AddBackward0>)\n",
      "Loss is:  tensor(-2.0975, grad_fn=<AddBackward0>)\n",
      "Task: 0 ; Iteration 1\n",
      "Seconds for Iteration 1 : 0.5563626289367676\n",
      "Loss is:  tensor(-1.8390, grad_fn=<AddBackward0>)\n",
      "Loss is:  tensor(-1.8356, grad_fn=<AddBackward0>)\n",
      "Loss is:  tensor(-1.8332, grad_fn=<AddBackward0>)\n",
      "Loss is:  tensor(-1.8309, grad_fn=<AddBackward0>)\n",
      "Loss is:  tensor(-1.8282, grad_fn=<AddBackward0>)\n",
      "Task: 0 ; Iteration 2\n",
      "Seconds for Iteration 2 : 0.5293064117431641\n",
      "Loss is:  tensor(-1.8613, grad_fn=<AddBackward0>)\n",
      "Loss is:  tensor(-1.8580, grad_fn=<AddBackward0>)\n",
      "Loss is:  tensor(-1.8542, grad_fn=<AddBackward0>)\n",
      "Loss is:  tensor(-1.8506, grad_fn=<AddBackward0>)\n",
      "Loss is:  tensor(-1.8472, grad_fn=<AddBackward0>)\n",
      "Task: 0 ; Iteration 3\n",
      "Seconds for Iteration 3 : 0.5200045108795166\n",
      "Loss is:  tensor(-1.8348, grad_fn=<AddBackward0>)\n",
      "Loss is:  tensor(-1.8296, grad_fn=<AddBackward0>)\n",
      "Loss is:  tensor(-1.8256, grad_fn=<AddBackward0>)\n",
      "Loss is:  tensor(-1.8226, grad_fn=<AddBackward0>)\n",
      "Loss is:  tensor(-1.8196, grad_fn=<AddBackward0>)\n",
      "Task: 0 ; Iteration 4\n",
      "Seconds for Iteration 4 : 0.5794088840484619\n",
      "Loss is:  tensor(-1.8058, grad_fn=<AddBackward0>)\n",
      "Loss is:  tensor(-1.8022, grad_fn=<AddBackward0>)\n",
      "Loss is:  tensor(-1.7992, grad_fn=<AddBackward0>)\n",
      "Loss is:  tensor(-1.7960, grad_fn=<AddBackward0>)\n",
      "Loss is:  tensor(-1.7927, grad_fn=<AddBackward0>)\n",
      "Task: 0 ; Iteration 5\n",
      "Seconds for Iteration 5 : 0.5498635768890381\n",
      "Loss is:  tensor(-1.8073, grad_fn=<AddBackward0>)\n",
      "Loss is:  tensor(-1.8043, grad_fn=<AddBackward0>)\n",
      "Loss is:  tensor(-1.8008, grad_fn=<AddBackward0>)\n",
      "Loss is:  tensor(-1.7976, grad_fn=<AddBackward0>)\n",
      "Loss is:  tensor(-1.7945, grad_fn=<AddBackward0>)\n",
      "Task: 0 ; Iteration 6\n",
      "Seconds for Iteration 6 : 0.6669113636016846\n",
      "Loss is:  tensor(-1.8025, grad_fn=<AddBackward0>)\n",
      "Loss is:  tensor(-1.7989, grad_fn=<AddBackward0>)\n",
      "Loss is:  tensor(-1.7952, grad_fn=<AddBackward0>)\n",
      "Loss is:  tensor(-1.7915, grad_fn=<AddBackward0>)\n",
      "Loss is:  tensor(-1.7880, grad_fn=<AddBackward0>)\n",
      "Task: 0 ; Iteration 7\n",
      "Seconds for Iteration 7 : 0.6378910541534424\n",
      "Loss is:  tensor(-1.7522, grad_fn=<AddBackward0>)\n",
      "Loss is:  tensor(-1.7477, grad_fn=<AddBackward0>)\n",
      "Loss is:  tensor(-1.7441, grad_fn=<AddBackward0>)\n",
      "Loss is:  tensor(-1.7409, grad_fn=<AddBackward0>)\n",
      "Loss is:  tensor(-1.7375, grad_fn=<AddBackward0>)\n",
      "Task: 0 ; Iteration 8\n",
      "Seconds for Iteration 8 : 0.7386815547943115\n",
      "Loss is:  tensor(-1.7156, grad_fn=<AddBackward0>)\n",
      "Loss is:  tensor(-1.7114, grad_fn=<AddBackward0>)\n",
      "Loss is:  tensor(-1.7079, grad_fn=<AddBackward0>)\n",
      "Loss is:  tensor(-1.7043, grad_fn=<AddBackward0>)\n",
      "Loss is:  tensor(-1.7004, grad_fn=<AddBackward0>)\n",
      "Task: 0 ; Iteration 9\n",
      "Seconds for Iteration 9 : 0.708280086517334\n",
      "Loss is:  tensor(-1.7312, grad_fn=<AddBackward0>)\n",
      "Loss is:  tensor(-1.7251, grad_fn=<AddBackward0>)\n",
      "Loss is:  tensor(-1.7200, grad_fn=<AddBackward0>)\n",
      "Loss is:  tensor(-1.7158, grad_fn=<AddBackward0>)\n",
      "Loss is:  tensor(-1.7120, grad_fn=<AddBackward0>)\n",
      "Task: 0 ; Iteration 10\n",
      "Seconds for Iteration 10 : 0.7255136966705322\n",
      "Loss is:  tensor(-1.7043, grad_fn=<AddBackward0>)\n",
      "Loss is:  tensor(-1.6994, grad_fn=<AddBackward0>)\n",
      "Loss is:  tensor(-1.6954, grad_fn=<AddBackward0>)\n",
      "Loss is:  tensor(-1.6916, grad_fn=<AddBackward0>)\n",
      "Loss is:  tensor(-1.6876, grad_fn=<AddBackward0>)\n",
      "Task: 0 ; Iteration 11\n",
      "Seconds for Iteration 11 : 0.610788106918335\n",
      "Loss is:  tensor(-1.7202, grad_fn=<AddBackward0>)\n",
      "Loss is:  tensor(-1.7161, grad_fn=<AddBackward0>)\n",
      "Loss is:  tensor(-1.7115, grad_fn=<AddBackward0>)\n",
      "Loss is:  tensor(-1.7072, grad_fn=<AddBackward0>)\n",
      "Loss is:  tensor(-1.7029, grad_fn=<AddBackward0>)\n",
      "Task: 0 ; Iteration 12\n",
      "Seconds for Iteration 12 : 0.5637872219085693\n",
      "Loss is:  tensor(-1.6749, grad_fn=<AddBackward0>)\n",
      "Loss is:  tensor(-1.6708, grad_fn=<AddBackward0>)\n",
      "Loss is:  tensor(-1.6659, grad_fn=<AddBackward0>)\n",
      "Loss is:  tensor(-1.6614, grad_fn=<AddBackward0>)\n",
      "Loss is:  tensor(-1.6570, grad_fn=<AddBackward0>)\n",
      "Task: 0 ; Iteration 13\n",
      "Seconds for Iteration 13 : 0.7028732299804688\n",
      "Loss is:  tensor(-1.6738, grad_fn=<AddBackward0>)\n",
      "Loss is:  tensor(-1.6688, grad_fn=<AddBackward0>)\n",
      "Loss is:  tensor(-1.6645, grad_fn=<AddBackward0>)\n",
      "Loss is:  tensor(-1.6599, grad_fn=<AddBackward0>)\n",
      "Loss is:  tensor(-1.6551, grad_fn=<AddBackward0>)\n",
      "Task: 0 ; Iteration 14\n",
      "Seconds for Iteration 14 : 0.5891766548156738\n",
      "Loss is:  tensor(-1.6330, grad_fn=<AddBackward0>)\n",
      "Loss is:  tensor(-1.6277, grad_fn=<AddBackward0>)\n",
      "Loss is:  tensor(-1.6230, grad_fn=<AddBackward0>)\n",
      "Loss is:  tensor(-1.6182, grad_fn=<AddBackward0>)\n",
      "Loss is:  tensor(-1.6132, grad_fn=<AddBackward0>)\n",
      "Task: 0 ; Iteration 15\n",
      "Seconds for Iteration 15 : 0.675107479095459\n",
      "Loss is:  tensor(-1.5952, grad_fn=<AddBackward0>)\n",
      "Loss is:  tensor(-1.5905, grad_fn=<AddBackward0>)\n",
      "Loss is:  tensor(-1.5855, grad_fn=<AddBackward0>)\n",
      "Loss is:  tensor(-1.5806, grad_fn=<AddBackward0>)\n",
      "Loss is:  tensor(-1.5757, grad_fn=<AddBackward0>)\n",
      "Task: 0 ; Iteration 16\n",
      "Seconds for Iteration 16 : 0.6480464935302734\n",
      "Loss is:  tensor(-1.5979, grad_fn=<AddBackward0>)\n",
      "Loss is:  tensor(-1.5928, grad_fn=<AddBackward0>)\n",
      "Loss is:  tensor(-1.5876, grad_fn=<AddBackward0>)\n",
      "Loss is:  tensor(-1.5824, grad_fn=<AddBackward0>)\n",
      "Loss is:  tensor(-1.5773, grad_fn=<AddBackward0>)\n",
      "Task: 0 ; Iteration 17\n",
      "Seconds for Iteration 17 : 0.5353777408599854\n",
      "Loss is:  tensor(-1.5427, grad_fn=<AddBackward0>)\n",
      "Loss is:  tensor(-1.5362, grad_fn=<AddBackward0>)\n",
      "Loss is:  tensor(-1.5305, grad_fn=<AddBackward0>)\n",
      "Loss is:  tensor(-1.5254, grad_fn=<AddBackward0>)\n",
      "Loss is:  tensor(-1.5203, grad_fn=<AddBackward0>)\n",
      "Task: 0 ; Iteration 18\n",
      "Seconds for Iteration 18 : 0.6560981273651123\n",
      "Loss is:  tensor(-1.5046, grad_fn=<AddBackward0>)\n",
      "Loss is:  tensor(-1.4976, grad_fn=<AddBackward0>)\n",
      "Loss is:  tensor(-1.4914, grad_fn=<AddBackward0>)\n",
      "Loss is:  tensor(-1.4857, grad_fn=<AddBackward0>)\n",
      "Loss is:  tensor(-1.4799, grad_fn=<AddBackward0>)\n",
      "Task: 0 ; Iteration 19\n",
      "Seconds for Iteration 19 : 0.6843388080596924\n"
     ]
    }
   ],
   "source": [
    "data_mod = spectralgp.models.BayesianLinearRegressionModel(train_x, train_y, nomg, omega_0, omega_max)\n",
    "\n",
    "################################\n",
    "## set up alternating sampler ##\n",
    "################################\n",
    "\n",
    "alt_sampler = spectralgp.samplers.AlternatingSampler(\n",
    "[data_mod],\n",
    "spectralgp.sampling_factories.ss_factory, [spectralgp.sampling_factories.ess_factory],\n",
    "totalSamples=iters, numInnerSamples=ess_iters, numOuterSamples=optim_iters, num_dims=in_dims\n",
    ")\n",
    "alt_sampler.run()"
   ]
  },
  {
   "cell_type": "code",
   "execution_count": 8,
   "metadata": {},
   "outputs": [
    {
     "name": "stdout",
     "output_type": "stream",
     "text": [
      "Test RMSE: 0.6500111476204421\n",
      "torch.Size([500, 200]) torch.Size([500])\n",
      "torch.Size([250, 200]) torch.Size([250, 200]) torch.Size([500, 200])\n"
     ]
    },
    {
     "data": {
      "image/png": "[encoded data removed]",
      "text/plain": [
       "<Figure size 432x288 with 1 Axes>"
      ]
     },
     "metadata": {
      "needs_background": "light"
     },
     "output_type": "display_data"
    },
    {
     "data": {
      "text/plain": [
       "<Figure size 432x288 with 0 Axes>"
      ]
     },
     "metadata": {},
     "output_type": "display_data"
    }
   ],
   "source": [
    "data_mod.eval()\n",
    "\n",
    "d = data_mod(test_x).mean - test_y\n",
    "\n",
    "test_rmse = torch.sqrt(torch.mean(torch.pow(d, 2)))\n",
    "\n",
    "print(\"Test RMSE: {}\".format(test_rmse))\n",
    "\n",
    "print(data_x.size(), data_y.size())\n",
    "print(train_x.size(), test_x.size(), data_x.size())\n",
    "\n",
    "plt.plot(data_y.numpy(), label='data')\n",
    "plt.plot(train_y.numpy(), marker='o', label='train')\n",
    "plt.plot(data_mod(data_x).mean.detach().numpy(), marker='*', label='BLR')\n",
    "plt.legend()\n",
    "plt.show()\n",
    "plt.savefig(\"BLR_out.png\")\n",
    "\n",
    "#print(data_mod(data_x).mean.detach().numpy())"
   ]
  }
 ],
 "metadata": {
  "kernelspec": {
   "display_name": "Python [conda env:spectralgp] *",
   "language": "python",
   "name": "conda-env-spectralgp-py"
  },
  "language_info": {
   "codemirror_mode": {
    "name": "ipython",
    "version": 3
   },
   "file_extension": ".py",
   "mimetype": "text/x-python",
   "name": "python",
   "nbconvert_exporter": "python",
   "pygments_lexer": "ipython3",
   "version": "3.7.3"
  }
 },
 "nbformat": 4,
 "nbformat_minor": 2
}
