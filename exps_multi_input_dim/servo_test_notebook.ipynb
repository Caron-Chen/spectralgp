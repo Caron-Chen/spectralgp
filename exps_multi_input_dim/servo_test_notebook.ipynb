{
 "cells": [
  {
   "cell_type": "code",
   "execution_count": 1,
   "metadata": {},
   "outputs": [],
   "source": [
    "import math\n",
    "import torch\n",
    "import gpytorch\n",
    "import numpy as np\n",
    "import numpy.linalg as linalg\n",
    "\n",
    "import spectralgp\n",
    "\n",
    "from spectralgp.samplers import AlternatingSampler\n",
    "from spectralgp.models import ExactGPModel, SpectralModel, ProductKernelSpectralModel\n",
    "\n",
    "from spectralgp.sampling_factories import ss_factory, ess_factory\n",
    "from custom_plotting import plot_kernel\n",
    "\n",
    "import data\n",
    "\n",
    "import utils\n",
    "import argparse\n",
    "\n",
    "import sys\n",
    "import matplotlib.pyplot as plt\n",
    "\n",
    "import traceback\n",
    "\n",
    "torch.set_default_dtype(torch.float64)"
   ]
  },
  {
   "cell_type": "code",
   "execution_count": 2,
   "metadata": {},
   "outputs": [
    {
     "name": "stdout",
     "output_type": "stream",
     "text": [
      "Cuda is available True\n",
      "Input Dimensions 4\n"
     ]
    }
   ],
   "source": [
    "train_x, train_y, test_x, test_y, y_std, y_std_train, gen_kern = data.read_data('servo', nx=None, gen_pars=None,\n",
    "                                                            linear_pars=None,\n",
    "                                                            spacing='random',\n",
    "                                                            noise=None)\n",
    "in_dims = 1 if train_x.dim() == 1 else train_x.size(1)\n",
    "\n",
    "use_cuda = torch.cuda.is_available()\n",
    "print('Cuda is available', use_cuda)\n",
    "if use_cuda:\n",
    "    torch.set_default_tensor_type(torch.cuda.DoubleTensor)\n",
    "    train_x, train_y, test_x, test_y, y_std = train_x.cuda(), train_y.cuda(), test_x.cuda(), test_y.cuda(), y_std.cuda()\n",
    "    if gen_kern is not None:\n",
    "        gen_kern = gen_kern.cuda()\n",
    "\n",
    "###########################################\n",
    "## set up the spectral and latent models ##\n",
    "###########################################\n",
    "print(\"Input Dimensions {}\".format(in_dims))\n",
    "\n",
    "\n",
    "\n",
    "mlatent = 'shared'\n",
    "shared = True if mlatent == 'shared' else False"
   ]
  },
  {
   "cell_type": "code",
   "execution_count": 3,
   "metadata": {},
   "outputs": [
    {
     "name": "stdout",
     "output_type": "stream",
     "text": [
      "0\n",
      "tensor(8.)\n",
      "0\n",
      "tensor(8.)\n",
      "0\n",
      "tensor(8.)\n"
     ]
    }
   ],
   "source": [
    "data_lh = gpytorch.likelihoods.GaussianLikelihood(noise_prior=gpytorch.priors.SmoothedBoxPrior(1e-8, 1e-3))\n",
    "data_mod = spectralgp.models.ProductKernelSpectralModel(train_x, train_y, data_lh, shared=shared,\n",
    "        normalize = False, symmetrize = False, num_locs = 100, spacing='random', pretrain=False, omega_max = 8., nonstat = True)"
   ]
  },
  {
   "cell_type": "code",
   "execution_count": 4,
   "metadata": {},
   "outputs": [
    {
     "name": "stdout",
     "output_type": "stream",
     "text": [
      "Step:  0 Dimension:  0\n",
      "Loss is:  tensor(-84.0874, grad_fn=<DivBackward0>)\n",
      "Loss is:  tensor(-82.9206, grad_fn=<DivBackward0>)\n",
      "Loss is:  tensor(-81.7761, grad_fn=<DivBackward0>)\n",
      "Loss is:  tensor(-80.6478, grad_fn=<DivBackward0>)\n",
      "Loss is:  tensor(-79.5332, grad_fn=<DivBackward0>)\n",
      "Task: 0 ; Iteration 0\n",
      "Step:  0 Dimension:  1\n",
      "Loss is:  tensor(-79.2381, grad_fn=<DivBackward0>)\n",
      "Loss is:  tensor(-78.1588, grad_fn=<DivBackward0>)\n",
      "Loss is:  tensor(-77.0891, grad_fn=<DivBackward0>)\n",
      "Loss is:  tensor(-76.0471, grad_fn=<DivBackward0>)\n",
      "Loss is:  tensor(-75.0007, grad_fn=<DivBackward0>)\n",
      "Task: 0 ; Iteration 0\n",
      "Step:  0 Dimension:  2\n",
      "Loss is:  tensor(-73.9136, grad_fn=<DivBackward0>)\n",
      "Loss is:  tensor(-72.8971, grad_fn=<DivBackward0>)\n",
      "Loss is:  tensor(-71.9007, grad_fn=<DivBackward0>)\n",
      "Loss is:  tensor(-70.9075, grad_fn=<DivBackward0>)\n",
      "Loss is:  tensor(-69.9368, grad_fn=<DivBackward0>)\n",
      "Task: 0 ; Iteration 0\n",
      "Step:  0 Dimension:  3\n",
      "Loss is:  tensor(-68.7381, grad_fn=<DivBackward0>)\n",
      "Loss is:  tensor(-67.7982, grad_fn=<DivBackward0>)\n",
      "Loss is:  tensor(-66.8560, grad_fn=<DivBackward0>)\n",
      "Loss is:  tensor(-65.9145, grad_fn=<DivBackward0>)\n",
      "Loss is:  tensor(-65.0074, grad_fn=<DivBackward0>)\n",
      "Task: 0 ; Iteration 0\n",
      "Seconds for Iteration 0 : 4.812559604644775\n"
     ]
    }
   ],
   "source": [
    "alt_sampler = spectralgp.samplers.AlternatingSampler(\n",
    "    [data_mod], [data_lh], \n",
    "    spectralgp.sampling_factories.ss_factory, [spectralgp.sampling_factories.ess_factory],\n",
    "    totalSamples=1, numInnerSamples=10, numOuterSamples=5, num_dims=in_dims\n",
    "    )\n",
    "\n",
    "\n",
    "alt_sampler.run()"
   ]
  },
  {
   "cell_type": "code",
   "execution_count": 5,
   "metadata": {},
   "outputs": [
    {
     "data": {
      "text/plain": [
       "True"
      ]
     },
     "execution_count": 5,
     "metadata": {},
     "output_type": "execute_result"
    }
   ],
   "source": [
    "torch.equal(data_mod.covar_module.get_latent_params(1), data_mod.covar_module.get_latent_params(0))"
   ]
  },
  {
   "cell_type": "code",
   "execution_count": 6,
   "metadata": {},
   "outputs": [
    {
     "name": "stdout",
     "output_type": "stream",
     "text": [
      "Normalised RMSE: 0.516409620095758\n",
      "Unnormalised RMSE: 0.46448606519049085\n",
      "Summed NLL: 17.074697900438323\n",
      "MSLL: -0.26942577821269337\n"
     ]
    }
   ],
   "source": [
    "data_mod.eval()\n",
    "data_lh.eval()\n",
    "\n",
    "data_mod_means = torch.zeros_like(data_mod(test_x).mean)\n",
    "total_variance = torch.zeros_like(data_lh(data_mod(test_x)).variance)\n",
    "\n",
    "test_rmse = 0.0\n",
    "unnorm_test_rmse = 0.0\n",
    "nll_sum = 0.0\n",
    "msll = 0.0\n",
    "\n",
    "with torch.no_grad():\n",
    "    marg_samples_num = min(len(alt_sampler.fhsampled[0][0]), alt_sampler.fgsampled[0].shape[-1])\n",
    "    \n",
    "    for x in range(0, marg_samples_num):\n",
    "        # This line must come first\n",
    "        data_mod.load_state_dict(alt_sampler.fhsampled[0][0][x]) # dim, ???, nsample\n",
    "        \n",
    "        for dim in range(0,in_dims):\n",
    "            data_mod.covar_module.set_latent_params(alt_sampler.fgsampled[dim][0, :, x], idx=dim)\n",
    "            \n",
    "        # Verify this is the correct way to handle multidim train setting\n",
    "\n",
    "        data_mod.set_train_data(train_x, train_y) # to clear out the cache\n",
    "        data_mod_means += data_mod(test_x).mean\n",
    "\n",
    "        y_preds = data_lh(data_mod(test_x))\n",
    "        # y_var = f_var + data_noise\n",
    "        y_var = y_preds.variance\n",
    "        total_variance += (y_var + torch.pow(data_mod(test_x).mean,2))\n",
    "\n",
    "\n",
    "meaned_data_mod_means = data_mod_means / float(marg_samples_num)\n",
    "total_variance = total_variance/float(marg_samples_num) - torch.pow(meaned_data_mod_means,2)\n",
    "\n",
    "d = meaned_data_mod_means - test_y\n",
    "du = d * y_std\n",
    "\n",
    "test_rmse = torch.sqrt(torch.mean(torch.pow(d, 2)))\n",
    "unnorm_test_rmse = torch.sqrt(torch.mean(torch.pow(du, 2)))\n",
    "\n",
    "nll = 0.5 * torch.log(2. * math.pi * total_variance) +  torch.pow((meaned_data_mod_means - test_y),2)/(2. * total_variance)\n",
    "sll = nll - (0.5 * torch.log(2. * math.pi * torch.pow(y_std_train, 2)) +  torch.pow((torch.mean(train_y) - test_y),2)/(2. * torch.pow(y_std_train, 2)))\n",
    "msll += torch.mean(sll)\n",
    "nll_sum += nll.sum()\n",
    "\n",
    "print(\"Normalised RMSE: {}\".format(test_rmse))\n",
    "print(\"Unnormalised RMSE: {}\".format(unnorm_test_rmse))\n",
    "print(\"Summed NLL: {}\".format(nll_sum))\n",
    "print(\"MSLL: {}\".format(msll))"
   ]
  },
  {
   "cell_type": "code",
   "execution_count": 7,
   "metadata": {},
   "outputs": [
    {
     "name": "stderr",
     "output_type": "stream",
     "text": [
      "/home/jayson_s/anaconda3/envs/spectralgp/lib/python3.7/site-packages/matplotlib-3.0.3-py3.7-linux-x86_64.egg/matplotlib/axes/_base.py:380: MatplotlibDeprecationWarning: \n",
      "cycling among columns of inputs with non-matching shapes is deprecated.\n",
      "  cbook.warn_deprecated(\"2.2\", \"cycling among columns of inputs \"\n"
     ]
    },
    {
     "data": {
      "image/png": "[encoded data removed]",
      "text/plain": [
       "<Figure size 432x288 with 1 Axes>"
      ]
     },
     "metadata": {
      "needs_background": "light"
     },
     "output_type": "display_data"
    }
   ],
   "source": [
    "plot_kernel(alt_sampler, data_mod, 'servo')"
   ]
  }
 ],
 "metadata": {
  "kernelspec": {
   "display_name": "Python [conda env:spectralgp] *",
   "language": "python",
   "name": "conda-env-spectralgp-py"
  },
  "language_info": {
   "codemirror_mode": {
    "name": "ipython",
    "version": 3
   },
   "file_extension": ".py",
   "mimetype": "text/x-python",
   "name": "python",
   "nbconvert_exporter": "python",
   "pygments_lexer": "ipython3",
   "version": "3.7.3"
  }
 },
 "nbformat": 4,
 "nbformat_minor": 2
}
